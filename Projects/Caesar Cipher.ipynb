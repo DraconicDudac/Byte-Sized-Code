{
 "cells": [
  {
   "cell_type": "markdown",
   "metadata": {},
   "source": [
    "# Caesar Cipher\n",
    "\n",
    "**By Arpit Omprakash, Byte Sized Code**"
   ]
  },
  {
   "cell_type": "markdown",
   "metadata": {},
   "source": [
    "## What is Caesar Cipher?\n",
    "\n",
    "The Caesar Cipher is one of the simplest [ciphers](https://en.wikipedia.org/wiki/Cipher) in cryptography.  \n",
    "It is used to encrypt or decrypt messages/texts between two parties.  \n",
    "It is a kind of **Monoalphabetic Substitution cipher.**\n",
    "\n",
    "A [Substitution cipher](https://en.wikipedia.org/wiki/Substitution_cipher) is a simple cipher where some characters of the plaintext are replaced by specific characters to produce the ciphertext.\n",
    "\n",
    "To encrypt text using classic Caesar cipher, we just shift the alphaber by 3 and substitute the values. For example, A is replaced by D, B -> E, C -> F, and so on, till Y -> B and Z -> C.  \n",
    "Its really simple. Let's have a look at a simple example."
   ]
  },
  {
   "cell_type": "markdown",
   "metadata": {},
   "source": [
    "## Working Example\n",
    "\n",
    "Lets take a simple example.  \n",
    "Our enemy is stationed in a palace in a valley. Unsuspecting of any attach they are enjoying in their palace. Our army is at one of the hill peaks near the valley and our allies are at the other end on the opposite hill.  \n",
    "We want to encrypt the phrase **ATTACK AT ONCE** and send it to our allies on the other side, so that we both can start the attack at the same time and crush our enemy from both sides.  \n",
    "We disregard spaces as we don't have any method to encrypt spaces using the Caesar Cipher, thus, the plaintext becomes **ATTACKATONCE**  \n",
    "\n",
    "To encrypt using the traditional Caesar Cipher, we shift alphabets to the right by 3 places. Thus, we need to make the following changes:  \n",
    "- A -> D\n",
    "- T -> W\n",
    "- C -> F\n",
    "- K -> N\n",
    "- O -> R\n",
    "- N -> Q\n",
    "- E -> H  \n",
    "Making the necessary changes:  \n",
    "plaintext - **ATTACKATONCE**  \n",
    "encrypted - **DWWDFNDWRQFH**  \n",
    "\n",
    "Once the message is delivered on the other side, our allies (who know how to encrypt and decrypt) can then just reverse shift the alphabet by 3 places to get the message that we sent.  \n",
    "The message they receive: **DWWDFNDWRQFH**\n",
    "They make the following changes:  \n",
    "- D -> A\n",
    "- W -> T\n",
    "- F -> C\n",
    "- N -> K\n",
    "- R -> O\n",
    "- Q -> N\n",
    "- H -> E  \n",
    "Making the changes:  \n",
    "encrypted message - **DWWDFNDWRQFH**  \n",
    "decrypted message - **ATTACKATONCE**\n",
    "\n",
    "The allies then add the necessary spaces, look at the message and launch their attack! Together, we defeat the enemies and have a nice day hanging out at their palace.\n",
    "\n",
    "Wikipedia has another [working example](https://en.wikipedia.org/wiki/Caesar_cipher#Example) if you want to check it out."
   ]
  },
  {
   "cell_type": "markdown",
   "metadata": {},
   "source": [
    "## What are we going to do?\n",
    "\n",
    "We will code two simple functions that will help us encrypt and decrypt text using the Caesar Cipher. As the project is aimed at beginners, we will be using conventions and code that is easy to understand but not high performance.  \n",
    "Once you are familiar and comfortable with the code, I would suggest you to try to improve on it."
   ]
  },
  {
   "cell_type": "markdown",
   "metadata": {},
   "source": [
    "## Actual Code"
   ]
  },
  {
   "cell_type": "markdown",
   "metadata": {},
   "source": [
    "### Data structure for conversion\n",
    "\n",
    "To make things simpler, we will use dictionaries to use for the encryption and decryption process.  \n",
    "We will have one dictionary for encryption and another for decryption."
   ]
  },
  {
   "cell_type": "code",
   "execution_count": 1,
   "metadata": {},
   "outputs": [
    {
     "name": "stdout",
     "output_type": "stream",
     "text": [
      "{'A': 'D', 'B': 'E', 'C': 'F', 'D': 'G', 'E': 'H', 'F': 'I', 'G': 'J', 'H': 'K', 'I': 'L', 'J': 'M', 'K': 'N', 'L': 'O', 'M': 'P', 'N': 'Q', 'O': 'R', 'P': 'S', 'Q': 'T', 'R': 'U', 'S': 'V', 'T': 'W', 'U': 'X', 'V': 'Y', 'W': 'Z', 'X': 'A', 'Y': 'B', 'Z': 'C'}\n"
     ]
    }
   ],
   "source": [
    "# Encryption dictionary\n",
    "encrypt_key = {\"A\": \"D\", \"B\": \"E\", \"C\": \"F\", \"D\": \"G\", \"E\": \"H\", \"F\": \"I\", \"G\": \"J\", \n",
    "                \"H\": \"K\", \"I\": \"L\", \"J\": \"M\", \"K\": \"N\", \"L\": \"O\", \"M\": \"P\", \"N\": \"Q\", \n",
    "                \"O\": \"R\", \"P\": \"S\", \"Q\": \"T\", \"R\": \"U\", \"S\": \"V\", \"T\": \"W\", \"U\": \"X\", \n",
    "                \"V\": \"Y\", \"W\": \"Z\", \"X\": \"A\", \"Y\": \"B\", \"Z\": \"C\"}\n",
    "print(encrypt_key)"
   ]
  },
  {
   "cell_type": "code",
   "execution_count": 2,
   "metadata": {},
   "outputs": [
    {
     "name": "stdout",
     "output_type": "stream",
     "text": [
      "{'D': 'A', 'E': 'B', 'F': 'C', 'G': 'D', 'H': 'E', 'I': 'F', 'J': 'G', 'K': 'H', 'L': 'I', 'M': 'J', 'N': 'K', 'O': 'L', 'P': 'M', 'Q': 'N', 'R': 'O', 'S': 'P', 'T': 'Q', 'U': 'R', 'V': 'S', 'W': 'T', 'X': 'U', 'Y': 'V', 'Z': 'W', 'A': 'X', 'B': 'Y', 'C': 'Z'}\n"
     ]
    }
   ],
   "source": [
    "# Decryption dictionary\n",
    "# Just reverse the encryption dictionary\n",
    "decrypt_key = {value: key for key, value in encrypt_key.items()}\n",
    "print(decrypt_key)"
   ]
  },
  {
   "cell_type": "markdown",
   "metadata": {},
   "source": [
    "### Encryption\n",
    "\n",
    "We will write one function to help with the encryption process.  \n",
    "The function will take in the plaintext (string) as input and return the encrypted text (string) as output."
   ]
  },
  {
   "cell_type": "code",
   "execution_count": 3,
   "metadata": {},
   "outputs": [],
   "source": [
    "# Encryption function\n",
    "def encrypt(plaintext):\n",
    "    # Initialize an empty string\n",
    "    encrypted = \"\"\n",
    "    # We use .upper() to convert all characters to uppercase as our dictionary supports uppercase only\n",
    "    for character in plaintext.upper():\n",
    "        # Add the encrypted character to the initialized string\n",
    "        encrypted += encrypt_key[character]\n",
    "    # Return the encrypted string\n",
    "    return encrypted"
   ]
  },
  {
   "cell_type": "markdown",
   "metadata": {},
   "source": [
    "We can use the function to encrypt the initial example phrase, \"ATTACKATONCE\" and check if it matches the answer that we got above."
   ]
  },
  {
   "cell_type": "code",
   "execution_count": 4,
   "metadata": {},
   "outputs": [
    {
     "data": {
      "text/plain": [
       "'DWWDFNDWRQFH'"
      ]
     },
     "execution_count": 4,
     "metadata": {},
     "output_type": "execute_result"
    }
   ],
   "source": [
    "encrypt(\"ATTACKATONCE\")"
   ]
  },
  {
   "cell_type": "markdown",
   "metadata": {},
   "source": [
    "Yes it does! Hooray! We've done half of the job, the other part is quite as simple too.  \n",
    "We just need a decryption function."
   ]
  },
  {
   "cell_type": "markdown",
   "metadata": {},
   "source": [
    "### Decryption\n",
    "\n",
    "The decryption function is the inverse of the encryption function.  \n",
    "It takes in an encrypted string and converts it to the corresponding plaintext (string).  \n",
    "The function will be quite similar to the encryption function."
   ]
  },
  {
   "cell_type": "code",
   "execution_count": 5,
   "metadata": {},
   "outputs": [],
   "source": [
    "# Decryption function\n",
    "def decrypt(encrypted):\n",
    "    # Initialize the plaintext string\n",
    "    plaintext = \"\"\n",
    "    # Same logic for using the upper function\n",
    "    for character in encrypted.upper():\n",
    "        plaintext += decrypt_key[character]\n",
    "    # Return the final plaintext\n",
    "    return plaintext"
   ]
  },
  {
   "cell_type": "markdown",
   "metadata": {},
   "source": [
    "Now that we have a function for decryption, lets test it out using the encrypted text we got above:"
   ]
  },
  {
   "cell_type": "code",
   "execution_count": 6,
   "metadata": {},
   "outputs": [
    {
     "data": {
      "text/plain": [
       "'ATTACKATONCE'"
      ]
     },
     "execution_count": 6,
     "metadata": {},
     "output_type": "execute_result"
    }
   ],
   "source": [
    "decrypt('DWWDFNDWRQFH')"
   ]
  },
  {
   "cell_type": "markdown",
   "metadata": {},
   "source": [
    "Yay! We got our initial value for \"ATTACKATONCE\" from the encrypted text!"
   ]
  },
  {
   "cell_type": "markdown",
   "metadata": {},
   "source": [
    "So, that's all for the script.  \n",
    "You can surely compile it into a single pytho file.  \n",
    "I'd suggest improving on the code a bit once you fully understand it (look below for other interesting thing to try out).  \n",
    "If this was your first project after learning Python, then congratulations on completing it!  \n",
    "Watchout for more projects to come and keep coding meanwhile!"
   ]
  },
  {
   "cell_type": "markdown",
   "metadata": {},
   "source": [
    "### What to do next?\n",
    "\n",
    "First of all, compile it into a single script and try to make it a commandline tool.  \n",
    "Where you can ask the user for inputs and then return the corresponding encrypted and decrypted texts.  \n",
    "\n",
    "Here are a few ideas of improving on the project (and making some similar projects):\n",
    "- Rework the current data structure for conversions (dictionary) and implement a modulo based conversion\n",
    "- Expand the project to include any number of character shifts from 1 to 26 (we just worked with a shift of 3)\n",
    "- If Cryptography interests you (like me), try coding some other simple ciphers using python. Here are two to get you started:\n",
    "    - [ROT 13](https://en.wikipedia.org/wiki/ROT13)\n",
    "    - [Vigenere Cipher](https://en.wikipedia.org/wiki/Vigen%C3%A8re_cipher)"
   ]
  }
 ],
 "metadata": {
  "kernelspec": {
   "display_name": "Python 3",
   "language": "python",
   "name": "python3"
  },
  "language_info": {
   "codemirror_mode": {
    "name": "ipython",
    "version": 3
   },
   "file_extension": ".py",
   "mimetype": "text/x-python",
   "name": "python",
   "nbconvert_exporter": "python",
   "pygments_lexer": "ipython3",
   "version": "3.8.3"
  }
 },
 "nbformat": 4,
 "nbformat_minor": 4
}
